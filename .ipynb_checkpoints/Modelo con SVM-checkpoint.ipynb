{
 "cells": [
  {
   "cell_type": "code",
   "execution_count": 2,
   "id": "8c97c56c",
   "metadata": {},
   "outputs": [
    {
     "name": "stderr",
     "output_type": "stream",
     "text": [
      "[nltk_data] Downloading package omw-1.4 to\n",
      "[nltk_data]     C:\\Users\\Fankrit\\AppData\\Roaming\\nltk_data...\n",
      "[nltk_data]   Package omw-1.4 is already up-to-date!\n",
      "[nltk_data] Downloading package stopwords to\n",
      "[nltk_data]     C:\\Users\\Fankrit\\AppData\\Roaming\\nltk_data...\n",
      "[nltk_data]   Package stopwords is already up-to-date!\n",
      "[nltk_data] Downloading package punkt to\n",
      "[nltk_data]     C:\\Users\\Fankrit\\AppData\\Roaming\\nltk_data...\n",
      "[nltk_data]   Package punkt is already up-to-date!\n",
      "[nltk_data] Downloading package wordnet to\n",
      "[nltk_data]     C:\\Users\\Fankrit\\AppData\\Roaming\\nltk_data...\n",
      "[nltk_data]   Package wordnet is already up-to-date!\n"
     ]
    },
    {
     "name": "stdout",
     "output_type": "stream",
     "text": [
      "(47820, 37217)\n"
     ]
    },
    {
     "ename": "NameError",
     "evalue": "name 'SVC' is not defined",
     "output_type": "error",
     "traceback": [
      "\u001b[1;31m---------------------------------------------------------------------------\u001b[0m",
      "\u001b[1;31mNameError\u001b[0m                                 Traceback (most recent call last)",
      "Input \u001b[1;32mIn [2]\u001b[0m, in \u001b[0;36m<cell line: 53>\u001b[1;34m()\u001b[0m\n\u001b[0;32m     49\u001b[0m \u001b[38;5;66;03m# Separa los datos en conjunto de entrenamiento y prueba\u001b[39;00m\n\u001b[0;32m     50\u001b[0m X_train, X_test, y_train, y_test \u001b[38;5;241m=\u001b[39m train_test_split(X, etiquetas, test_size\u001b[38;5;241m=\u001b[39m\u001b[38;5;241m0.2\u001b[39m, random_state\u001b[38;5;241m=\u001b[39m\u001b[38;5;241m42\u001b[39m)\n\u001b[1;32m---> 53\u001b[0m clf \u001b[38;5;241m=\u001b[39m \u001b[43mSVC\u001b[49m(kernel\u001b[38;5;241m=\u001b[39m\u001b[38;5;124m'\u001b[39m\u001b[38;5;124mlinear\u001b[39m\u001b[38;5;124m'\u001b[39m, random_state\u001b[38;5;241m=\u001b[39m\u001b[38;5;241m42\u001b[39m)\n\u001b[0;32m     55\u001b[0m \u001b[38;5;66;03m# Realiza el entrenamiento con una barra de progreso\u001b[39;00m\n\u001b[0;32m     56\u001b[0m \u001b[38;5;28;01mfor\u001b[39;00m i \u001b[38;5;129;01min\u001b[39;00m tqdm(\u001b[38;5;28mrange\u001b[39m(\u001b[38;5;241m10\u001b[39m)):\n",
      "\u001b[1;31mNameError\u001b[0m: name 'SVC' is not defined"
     ]
    }
   ],
   "source": [
    "import pandas as pd\n",
    "from nltk.corpus import stopwords\n",
    "from nltk.tokenize import word_tokenize\n",
    "from nltk.stem import WordNetLemmatizer\n",
    "import nltk\n",
    "import numpy as np\n",
    "from sklearn.feature_extraction.text import TfidfVectorizer\n",
    "from sklearn.naive_bayes import MultinomialNB\n",
    "from sklearn.model_selection import train_test_split\n",
    "from sklearn.metrics import accuracy_score\n",
    "from sklearn.linear_model import LogisticRegression\n",
    "from tqdm import tqdm\n",
    "from sklearn.svm import SVC\n",
    "\n",
    "nltk.download('omw-1.4')\n",
    "nltk.download('stopwords')\n",
    "nltk.download('punkt')\n",
    "nltk.download('wordnet')\n",
    "\n",
    "# Lee el archivo de Excel con dos columnas (texto y etiqueta)\n",
    "df = pd.read_excel('Data.xlsx')\n",
    "\n",
    "# Separa las columnas de datos y etiquetas\n",
    "datos = df['Data'].tolist()\n",
    "etiquetas = df['Etiqueta'].tolist()\n",
    "\n",
    "# Preprocesamiento de datos\n",
    "stop_words = set(stopwords.words('english'))\n",
    "datos_procesados = []\n",
    "lemmatizer = WordNetLemmatizer()\n",
    "for texto in datos:\n",
    "    if isinstance(texto, (int, np.integer, float, np.floating)):\n",
    "        texto = str(texto)\n",
    "    tokens = word_tokenize(texto.lower())\n",
    "    tokens_filtrados = [token for token in tokens if token not in stop_words]\n",
    "    tokens_lemmatized = [lemmatizer.lemmatize(token) for token in tokens_filtrados]\n",
    "    datos_procesados.append(' '.join(tokens_lemmatized))\n",
    "\n",
    "# Crea una nueva columna para los datos preprocesados\n",
    "df['Columna_de_datos_procesados'] = datos_procesados\n",
    "\n",
    "# Representación del texto con TF-IDF\n",
    "stop_words = set(stopwords.words('english'))\n",
    "vectorizer = TfidfVectorizer(stop_words=stop_words)\n",
    "X = vectorizer.fit_transform(datos_procesados)\n",
    "\n",
    "# Verifica la forma de la matriz de características\n",
    "print(X.shape)\n",
    "\n",
    "# Separa los datos en conjunto de entrenamiento y prueba\n",
    "X_train, X_test, y_train, y_test = train_test_split(X, etiquetas, test_size=0.2, random_state=42)\n",
    "\n",
    "\n",
    "clf = SVC(kernel='linear', random_state=42)\n",
    "\n",
    "# Realiza el entrenamiento con una barra de progreso\n",
    "for i in tqdm(range(10)):\n",
    "    clf.fit(X_train, y_train)\n",
    "\n",
    "# Realiza predicciones en el conjunto de prueba y calcula la precisión\n",
    "y_pred = clf.predict(X_test)\n",
    "accuracy = accuracy_score(y_test, y_pred)\n",
    "print(\"Precisión del modelo: {:.2f}%\".format(accuracy * 100))"
   ]
  },
  {
   "cell_type": "code",
   "execution_count": null,
   "id": "02515dc4",
   "metadata": {},
   "outputs": [],
   "source": [
    "# Nueva respuesta\n",
    "nueva_respuesta = \"Lim A Po Law Firm/Advocatenkantoor Lim A Po\"\n",
    "\n",
    "# Preprocesar la nueva respuesta\n",
    "tokens = word_tokenize(nueva_respuesta.lower())\n",
    "tokens_filtrados = [token for token in tokens if token not in stop_words]\n",
    "tokens_lemmatized = [lemmatizer.lemmatize(token) for token in tokens_filtrados]\n",
    "texto_procesado = ' '.join(tokens_lemmatized)\n",
    "\n",
    "# Transformar la nueva respuesta en una representación vectorial\n",
    "vector_nueva_respuesta = vectorizer.transform([texto_procesado])\n",
    "\n",
    "# Hacer una predicción utilizando el modelo entrenado\n",
    "prediccion = clf.predict(vector_nueva_respuesta)\n",
    "\n",
    "# Imprimir la etiqueta predicha\n",
    "print(prediccion)"
   ]
  }
 ],
 "metadata": {
  "kernelspec": {
   "display_name": "Python 3 (ipykernel)",
   "language": "python",
   "name": "python3"
  },
  "language_info": {
   "codemirror_mode": {
    "name": "ipython",
    "version": 3
   },
   "file_extension": ".py",
   "mimetype": "text/x-python",
   "name": "python",
   "nbconvert_exporter": "python",
   "pygments_lexer": "ipython3",
   "version": "3.9.12"
  }
 },
 "nbformat": 4,
 "nbformat_minor": 5
}
