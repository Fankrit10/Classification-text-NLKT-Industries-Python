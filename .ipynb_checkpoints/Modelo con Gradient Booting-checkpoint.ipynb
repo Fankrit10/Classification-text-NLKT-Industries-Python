{
 "cells": [
  {
   "cell_type": "code",
   "execution_count": 1,
   "id": "4605ff4a",
   "metadata": {},
   "outputs": [
    {
     "name": "stderr",
     "output_type": "stream",
     "text": [
      "[nltk_data] Downloading package omw-1.4 to\n",
      "[nltk_data]     C:\\Users\\Fankrit\\AppData\\Roaming\\nltk_data...\n",
      "[nltk_data]   Package omw-1.4 is already up-to-date!\n",
      "[nltk_data] Downloading package stopwords to\n",
      "[nltk_data]     C:\\Users\\Fankrit\\AppData\\Roaming\\nltk_data...\n",
      "[nltk_data]   Package stopwords is already up-to-date!\n",
      "[nltk_data] Downloading package punkt to\n",
      "[nltk_data]     C:\\Users\\Fankrit\\AppData\\Roaming\\nltk_data...\n",
      "[nltk_data]   Package punkt is already up-to-date!\n",
      "[nltk_data] Downloading package wordnet to\n",
      "[nltk_data]     C:\\Users\\Fankrit\\AppData\\Roaming\\nltk_data...\n",
      "[nltk_data]   Package wordnet is already up-to-date!\n"
     ]
    },
    {
     "ename": "NameError",
     "evalue": "name 'np' is not defined",
     "output_type": "error",
     "traceback": [
      "\u001b[1;31m---------------------------------------------------------------------------\u001b[0m",
      "\u001b[1;31mNameError\u001b[0m                                 Traceback (most recent call last)",
      "Input \u001b[1;32mIn [1]\u001b[0m, in \u001b[0;36m<cell line: 30>\u001b[1;34m()\u001b[0m\n\u001b[0;32m     29\u001b[0m lemmatizer \u001b[38;5;241m=\u001b[39m WordNetLemmatizer()\n\u001b[0;32m     30\u001b[0m \u001b[38;5;28;01mfor\u001b[39;00m texto \u001b[38;5;129;01min\u001b[39;00m datos:\n\u001b[1;32m---> 31\u001b[0m     \u001b[38;5;28;01mif\u001b[39;00m \u001b[38;5;28misinstance\u001b[39m(texto, (\u001b[38;5;28mint\u001b[39m, \u001b[43mnp\u001b[49m\u001b[38;5;241m.\u001b[39minteger, \u001b[38;5;28mfloat\u001b[39m, np\u001b[38;5;241m.\u001b[39mfloating)):\n\u001b[0;32m     32\u001b[0m         texto \u001b[38;5;241m=\u001b[39m \u001b[38;5;28mstr\u001b[39m(texto)\n\u001b[0;32m     33\u001b[0m     tokens \u001b[38;5;241m=\u001b[39m word_tokenize(texto\u001b[38;5;241m.\u001b[39mlower())\n",
      "\u001b[1;31mNameError\u001b[0m: name 'np' is not defined"
     ]
    }
   ],
   "source": [
    "import pandas as pd\n",
    "from nltk.corpus import stopwords\n",
    "from nltk.tokenize import word_tokenize\n",
    "from nltk.stem import WordNetLemmatizer\n",
    "import nltk\n",
    "from sklearn.feature_extraction.text import TfidfVectorizer\n",
    "from sklearn.naive_bayes import MultinomialNB\n",
    "from sklearn.model_selection import train_test_split\n",
    "from sklearn.metrics import accuracy_score\n",
    "from sklearn.linear_model import LogisticRegression\n",
    "from tqdm import tqdm\n",
    "from sklearn.ensemble import GradientBoostingClassifier\n",
    "import numpy as np\n",
    "\n",
    "nltk.download('omw-1.4')\n",
    "nltk.download('stopwords')\n",
    "nltk.download('punkt')\n",
    "nltk.download('wordnet')\n",
    "\n",
    "# Lee el archivo de Excel con dos columnas (texto y etiqueta)\n",
    "df = pd.read_excel('Data.xlsx')\n",
    "\n",
    "# Separa las columnas de datos y etiquetas\n",
    "datos = df['Data'].tolist()\n",
    "etiquetas = df['Etiqueta'].tolist()\n",
    "\n",
    "# Preprocesamiento de datos\n",
    "stop_words = set(stopwords.words('english'))\n",
    "datos_procesados = []\n",
    "lemmatizer = WordNetLemmatizer()\n",
    "for texto in datos:\n",
    "    if isinstance(texto, (int, np.integer, float, np.floating)):\n",
    "        texto = str(texto)\n",
    "    tokens = word_tokenize(texto.lower())\n",
    "    tokens_filtrados = [token for token in tokens if token not in stop_words]\n",
    "    tokens_lemmatized = [lemmatizer.lemmatize(token) for token in tokens_filtrados]\n",
    "    datos_procesados.append(' '.join(tokens_lemmatized))\n",
    "\n",
    "# Crea una nueva columna para los datos preprocesados\n",
    "df['Columna_de_datos_procesados'] = datos_procesados\n",
    "\n",
    "# Representación del texto con TF-IDF\n",
    "stop_words = set(stopwords.words('english'))\n",
    "vectorizer = TfidfVectorizer(stop_words=stop_words)\n",
    "X = vectorizer.fit_transform(datos_procesados)\n",
    "\n",
    "# Verifica la forma de la matriz de características\n",
    "print(X.shape)\n",
    "\n",
    "# Separa los datos en conjunto de entrenamiento y prueba\n",
    "X_train, X_test, y_train, y_test = train_test_split(X, etiquetas, test_size=0.2, random_state=42)\n",
    "\n",
    "\n",
    "clf = GradientBoostingClassifier(random_state=42)\n",
    "\n",
    "# Realiza el entrenamiento con una barra de progreso\n",
    "for i in tqdm(range(10)):\n",
    "    clf.fit(X_train, y_train)\n",
    "\n",
    "# Realiza predicciones en el conjunto de prueba y calcula la precisión\n",
    "y_pred = clf.predict(X_test)\n",
    "accuracy = accuracy_score(y_test, y_pred)\n",
    "print(\"Precisión del modelo: {:.2f}%\".format(accuracy * 100))"
   ]
  }
 ],
 "metadata": {
  "kernelspec": {
   "display_name": "Python 3 (ipykernel)",
   "language": "python",
   "name": "python3"
  },
  "language_info": {
   "codemirror_mode": {
    "name": "ipython",
    "version": 3
   },
   "file_extension": ".py",
   "mimetype": "text/x-python",
   "name": "python",
   "nbconvert_exporter": "python",
   "pygments_lexer": "ipython3",
   "version": "3.9.12"
  }
 },
 "nbformat": 4,
 "nbformat_minor": 5
}
