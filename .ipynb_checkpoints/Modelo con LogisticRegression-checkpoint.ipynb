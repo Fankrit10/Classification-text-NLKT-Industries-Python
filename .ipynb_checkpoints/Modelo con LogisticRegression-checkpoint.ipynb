{
 "cells": [
  {
   "cell_type": "code",
   "execution_count": null,
   "id": "1cf73ffc",
   "metadata": {},
   "outputs": [
    {
     "name": "stderr",
     "output_type": "stream",
     "text": [
      "[nltk_data] Downloading package omw-1.4 to\n",
      "[nltk_data]     C:\\Users\\Fankrit\\AppData\\Roaming\\nltk_data...\n",
      "[nltk_data]   Package omw-1.4 is already up-to-date!\n",
      "[nltk_data] Downloading package stopwords to\n",
      "[nltk_data]     C:\\Users\\Fankrit\\AppData\\Roaming\\nltk_data...\n",
      "[nltk_data]   Package stopwords is already up-to-date!\n",
      "[nltk_data] Downloading package punkt to\n",
      "[nltk_data]     C:\\Users\\Fankrit\\AppData\\Roaming\\nltk_data...\n",
      "[nltk_data]   Package punkt is already up-to-date!\n",
      "[nltk_data] Downloading package wordnet to\n",
      "[nltk_data]     C:\\Users\\Fankrit\\AppData\\Roaming\\nltk_data...\n",
      "[nltk_data]   Package wordnet is already up-to-date!\n"
     ]
    }
   ],
   "source": [
    "import numpy as np\n",
    "import pandas as pd\n",
    "from nltk.corpus import stopwords\n",
    "from nltk.tokenize import word_tokenize\n",
    "from nltk.stem import WordNetLemmatizer\n",
    "import nltk\n",
    "from sklearn.feature_extraction.text import TfidfVectorizer\n",
    "\n",
    "nltk.download('omw-1.4')\n",
    "nltk.download('stopwords')\n",
    "nltk.download('punkt')\n",
    "nltk.download('wordnet')\n",
    "\n",
    "# Lee el archivo de Excel con dos columnas (texto y etiqueta)\n",
    "df = pd.read_excel('Data.xlsx')\n",
    "\n",
    "# Separa las columnas de datos y etiquetas\n",
    "datos = df['Data'].tolist()\n",
    "etiquetas = df['Etiqueta'].tolist()\n",
    "\n",
    "# Preprocesamiento de datos\n",
    "stop_words = set(stopwords.words('english'))\n",
    "datos_procesados = []\n",
    "lemmatizer = WordNetLemmatizer()\n",
    "for texto in datos:\n",
    "    if isinstance(texto, (int, np.integer, float, np.floating)):\n",
    "        texto = str(texto)\n",
    "    tokens = word_tokenize(texto.lower())\n",
    "    tokens_filtrados = [token for token in tokens if token not in stop_words]\n",
    "    tokens_lemmatized = [lemmatizer.lemmatize(token) for token in tokens_filtrados]\n",
    "    datos_procesados.append(' '.join(tokens_lemmatized))\n",
    "\n",
    "# Crea una nueva columna para los datos preprocesados\n",
    "df['Columna_de_datos_procesados'] = datos_procesados\n",
    "\n",
    "# Representación del texto con TF-IDF\n",
    "stop_words = set(stopwords.words('english'))\n",
    "vectorizer = TfidfVectorizer(stop_words=stop_words)\n",
    "X = vectorizer.fit_transform(datos_procesados)\n",
    "\n",
    "# Verifica la forma de la matriz de características\n",
    "print(X.shape)"
   ]
  },
  {
   "cell_type": "code",
   "execution_count": 5,
   "id": "2b0ca68f",
   "metadata": {},
   "outputs": [
    {
     "name": "stderr",
     "output_type": "stream",
     "text": [
      "100%|██████████| 10/10 [1:05:50<00:00, 395.04s/it]\n"
     ]
    },
    {
     "name": "stdout",
     "output_type": "stream",
     "text": [
      "Precisión del modelo: 25.95%\n"
     ]
    }
   ],
   "source": [
    "from sklearn.model_selection import train_test_split\n",
    "from sklearn.metrics import accuracy_score\n",
    "from sklearn.linear_model import LogisticRegression\n",
    "from tqdm import tqdm\n",
    "\n",
    "# Separa los datos en conjunto de entrenamiento y prueba\n",
    "X_train, X_test, y_train, y_test = train_test_split(X, etiquetas, test_size=0.2, random_state=42)\n",
    "\n",
    "# Entrena un modelo de clasificación supervisado usando Regresión Logística\n",
    "clf = LogisticRegression(random_state=42, max_iter=1000)\n",
    "\n",
    "# Realiza el entrenamiento con una barra de progreso\n",
    "for i in tqdm(range(10)):\n",
    "    clf.fit(X_train, y_train)\n",
    "\n",
    "# Realiza predicciones en el conjunto de prueba y calcula la precisión\n",
    "y_pred = clf.predict(X_test)\n",
    "accuracy = accuracy_score(y_test, y_pred)\n",
    "print(\"Precisión del modelo: {:.2f}%\".format(accuracy * 100))"
   ]
  },
  {
   "cell_type": "code",
   "execution_count": 18,
   "id": "39ab8c82",
   "metadata": {},
   "outputs": [
    {
     "name": "stdout",
     "output_type": "stream",
     "text": [
      "['Higher Education']\n"
     ]
    }
   ],
   "source": [
    "# Nueva respuesta\n",
    "nueva_respuesta = \"Instituto Tecnológico del Putumayo\"\n",
    "\n",
    "# Preprocesar la nueva respuesta\n",
    "tokens = word_tokenize(nueva_respuesta.lower())\n",
    "tokens_filtrados = [token for token in tokens if token not in stop_words]\n",
    "tokens_lemmatized = [lemmatizer.lemmatize(token) for token in tokens_filtrados]\n",
    "texto_procesado = ' '.join(tokens_lemmatized)\n",
    "\n",
    "# Transformar la nueva respuesta en una representación vectorial\n",
    "vector_nueva_respuesta = vectorizer.transform([texto_procesado])\n",
    "\n",
    "# Hacer una predicción utilizando el modelo entrenado\n",
    "prediccion = clf.predict(vector_nueva_respuesta)\n",
    "\n",
    "# Imprimir la etiqueta predicha\n",
    "print(prediccion)"
   ]
  },
  {
   "cell_type": "code",
   "execution_count": null,
   "id": "fa6e2e2a",
   "metadata": {},
   "outputs": [],
   "source": []
  }
 ],
 "metadata": {
  "kernelspec": {
   "display_name": "Python 3 (ipykernel)",
   "language": "python",
   "name": "python3"
  },
  "language_info": {
   "codemirror_mode": {
    "name": "ipython",
    "version": 3
   },
   "file_extension": ".py",
   "mimetype": "text/x-python",
   "name": "python",
   "nbconvert_exporter": "python",
   "pygments_lexer": "ipython3",
   "version": "3.9.12"
  }
 },
 "nbformat": 4,
 "nbformat_minor": 5
}
