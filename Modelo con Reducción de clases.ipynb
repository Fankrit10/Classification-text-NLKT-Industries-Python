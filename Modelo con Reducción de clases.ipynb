{
 "cells": [
  {
   "cell_type": "markdown",
   "id": "3c62dd68",
   "metadata": {},
   "source": [
    "## Disminuir dimension de clases"
   ]
  },
  {
   "cell_type": "code",
   "execution_count": 5,
   "id": "c4145759",
   "metadata": {
    "collapsed": true
   },
   "outputs": [
    {
     "name": "stderr",
     "output_type": "stream",
     "text": [
      "c:\\Users\\Fankrit\\Desktop\\Classification-text-NLKT-Industries-Python\\.venv\\lib\\site-packages\\sklearn\\feature_extraction\\text.py:528: UserWarning: The parameter 'token_pattern' will not be used since 'tokenizer' is not None'\n",
      "  warnings.warn(\n"
     ]
    }
   ],
   "source": [
    "import pandas as pd\n",
    "from sklearn.feature_extraction.text import TfidfVectorizer\n",
    "from sklearn.cluster import AgglomerativeClustering\n",
    "from collections import Counter\n",
    "import re\n",
    "\n",
    "# Load data\n",
    "df = pd.read_excel('data.xlsx')\n",
    "etiquetas = df['Etiqueta'].values.tolist()\n",
    "\n",
    "# Define a tokenizer that removes punctuation and lowercase words\n",
    "def my_tokenizer(text):\n",
    "    tokens = text.lower().split()\n",
    "    tokens = [re.sub('[^A-Za-z]+', '', token) for token in tokens]\n",
    "    return tokens\n",
    "\n",
    "# Configure vectorizer\n",
    "vectorizer = TfidfVectorizer(tokenizer=my_tokenizer, stop_words='english')\n",
    "\n",
    "# Convert text to vectors\n",
    "X = vectorizer.fit_transform(etiquetas)\n",
    "\n",
    "# Apply Agglomerative Clustering algorithm\n",
    "agglo = AgglomerativeClustering(n_clusters=60)\n",
    "agglo.fit(X.toarray())\n",
    "\n",
    "# Get the most common phrase for each cluster\n",
    "cluster_phrases = []\n",
    "for i in range(agglo.n_clusters_):\n",
    "    cluster_indices = [j for j in range(len(etiquetas)) if agglo.labels_[j] == i]\n",
    "    cluster_phrases.append(Counter([etiquetas[index] for index in cluster_indices]).most_common(1)[0][0])\n",
    "\n",
    "# Assign the most common phrase for each cluster to a new column in the DataFrame\n",
    "df['cluster_phrase'] = [cluster_phrases[label] for label in agglo.labels_]\n",
    "\n",
    "# Print the resulting clusters and their assigned phrases\n",
    "for i in range(agglo.n_clusters_):\n",
    "    print(\"Grupo \", i+1, \":\")\n",
    "    group = []\n",
    "    for j in range(len(etiquetas)):\n",
    "        if agglo.labels_[j] == i:\n",
    "            group.append(etiquetas[j])\n",
    "    print(group)\n",
    "    print(\"Frase clave del grupo: \", cluster_phrases[i])\n",
    "    print()\n",
    "df.to_excel(\"cluster.xlsx\")"
   ]
  }
 ],
 "metadata": {
  "kernelspec": {
   "display_name": "Python 3 (ipykernel)",
   "language": "python",
   "name": "python3"
  },
  "language_info": {
   "codemirror_mode": {
    "name": "ipython",
    "version": 3
   },
   "file_extension": ".py",
   "mimetype": "text/x-python",
   "name": "python",
   "nbconvert_exporter": "python",
   "pygments_lexer": "ipython3",
   "version": "3.8.0"
  }
 },
 "nbformat": 4,
 "nbformat_minor": 5
}
